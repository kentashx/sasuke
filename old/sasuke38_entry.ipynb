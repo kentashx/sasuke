{
 "cells": [
  {
   "cell_type": "code",
   "execution_count": 51,
   "metadata": {},
   "outputs": [],
   "source": [
    "import requests\n",
    "from bs4 import BeautifulSoup\n",
    "import re\n",
    "import pandas as pd\n"
   ]
  },
  {
   "cell_type": "code",
   "execution_count": 76,
   "metadata": {},
   "outputs": [],
   "source": [
    "#前半50人を取得\n",
    "urlName = \"https://www.tbs.co.jp/sasuke_rising/player/\"\n",
    "url = requests.get(urlName)\n",
    "soup = BeautifulSoup(url.content, \"html.parser\")\n",
    "test =soup.find('div', id='plys_list01')\n",
    "elements = test.find_all('span')\n",
    "cols = [\"no\",\"catch_copy\",\"name\"]\n",
    "df = pd.DataFrame(index=[], columns=cols)\n",
    "\n",
    "for i in range(50):\n",
    "    record = pd.Series([elements[3*i].string.strip(\"No.\"), elements[3*i+1].string,elements[3*i+2].string], index=df.columns)\n",
    "    df = df.append(record, ignore_index=True)"
   ]
  },
  {
   "cell_type": "code",
   "execution_count": 77,
   "metadata": {},
   "outputs": [],
   "source": [
    "#後半50人を取得\n",
    "urlName = \"https://www.tbs.co.jp/sasuke_rising/player/no51_100.html\"\n",
    "url = requests.get(urlName)\n",
    "soup = BeautifulSoup(url.content, \"html.parser\")\n",
    "test =soup.find('div', id='plys_list02')\n",
    "elements = test.find_all('span')\n",
    "\n",
    "for i in range(50):\n",
    "    record = pd.Series([elements[3*i].string.strip(\"No.\"), elements[3*i+1].string,elements[3*i+2].string], index=df.columns)\n",
    "    df = df.append(record, ignore_index=True)"
   ]
  },
  {
   "cell_type": "code",
   "execution_count": 79,
   "metadata": {},
   "outputs": [],
   "source": [
    "df.to_csv(\"sasuke38_entry.csv\")"
   ]
  },
  {
   "cell_type": "code",
   "execution_count": null,
   "metadata": {},
   "outputs": [],
   "source": []
  }
 ],
 "metadata": {
  "kernelspec": {
   "display_name": "Python 3",
   "language": "python",
   "name": "python3"
  },
  "language_info": {
   "codemirror_mode": {
    "name": "ipython",
    "version": 3
   },
   "file_extension": ".py",
   "mimetype": "text/x-python",
   "name": "python",
   "nbconvert_exporter": "python",
   "pygments_lexer": "ipython3",
   "version": "3.7.6"
  }
 },
 "nbformat": 4,
 "nbformat_minor": 4
}
